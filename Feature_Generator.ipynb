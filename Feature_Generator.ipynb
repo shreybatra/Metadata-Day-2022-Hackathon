{
  "nbformat": 4,
  "nbformat_minor": 0,
  "metadata": {
    "colab": {
      "name": "Feature_Generator.ipynb",
      "provenance": [],
      "collapsed_sections": []
    },
    "kernelspec": {
      "name": "python3",
      "display_name": "Python 3"
    },
    "language_info": {
      "name": "python"
    }
  },
  "cells": [
    {
      "cell_type": "code",
      "execution_count": 64,
      "metadata": {
        "id": "hIN3VAb5i316",
        "colab": {
          "base_uri": "https://localhost:8080/"
        },
        "outputId": "ffa2510a-fd08-4e3b-c095-4ab1b4b2d89e"
      },
      "outputs": [
        {
          "output_type": "stream",
          "name": "stdout",
          "text": [
            "[nltk_data] Downloading package punkt to /root/nltk_data...\n",
            "[nltk_data]   Package punkt is already up-to-date!\n"
          ]
        }
      ],
      "source": [
        "import pandas as pd\n",
        "import numpy as np\n",
        "import nltk\n",
        "import scipy\n",
        "from nltk import word_tokenize\n",
        "import itertools\n",
        "from sklearn.feature_extraction.text import TfidfVectorizer\n",
        "from sklearn.preprocessing import OneHotEncoder\n",
        "from sklearn.preprocessing import LabelBinarizer, LabelEncoder\n",
        "nltk.download('punkt')\n",
        "from sklearn.metrics import precision_score\n",
        "from sklearn.metrics import recall_score, precision_recall_fscore_support"
      ]
    },
    {
      "cell_type": "markdown",
      "source": [
        "# Reading Data"
      ],
      "metadata": {
        "id": "ACXFUqDQj6aU"
      }
    },
    {
      "cell_type": "code",
      "source": [
        "def read_data(file_name) -> pd.DataFrame:\n",
        "  return pd.read_csv(file_name)"
      ],
      "metadata": {
        "id": "4RsABifomU3f"
      },
      "execution_count": 65,
      "outputs": []
    },
    {
      "cell_type": "markdown",
      "source": [
        "# Feature Generation"
      ],
      "metadata": {
        "id": "kR9zKZ4Cj8lo"
      }
    },
    {
      "cell_type": "code",
      "source": [
        "class NameFeatureGenerator:\n",
        "\n",
        "  def __init__(self, names: np.array):\n",
        "    tokenized_words = self.tokenize(names)\n",
        "    self.vectorizer = TfidfVectorizer(ngram_range = (3,4), max_features = 1000, analyzer = \"char\") \n",
        "    self.vectorizer.fit(tokenized_words)\n",
        "    # print(self.vectorizer.get_feature_names_out())\n",
        "\n",
        "  def generate_features(self, names: np.array) -> np.ndarray:\n",
        "    tokenized_words = self.tokenize(names)\n",
        "    return self.vectorizer.transform(tokenized_words) \n",
        "\n",
        "  def tokenize(self, names: np.array):\n",
        "    tokenized_words = [''.join(word.split(\"_\")).lower() for word in names]\n",
        "    return tokenized_words"
      ],
      "metadata": {
        "id": "GFzlw7F50DSi"
      },
      "execution_count": 66,
      "outputs": []
    },
    {
      "cell_type": "code",
      "source": [
        "class EnumFeatureGenerator:\n",
        "  def __init__(self, property_name, values: np.array):\n",
        "    self.property_name = property_name\n",
        "    self.encoder = LabelBinarizer()\n",
        "    self.encoder.fit(values)\n",
        "                     \n",
        "  def generate_features(self, values: np.array):\n",
        "    return self.encoder.transform(values)\n",
        "\n",
        "  def get_label_from_features(self, features: np.array):\n",
        "    return self.encoder.inverse_transform(features)\n"
      ],
      "metadata": {
        "id": "yJjf1TKwXISi"
      },
      "execution_count": 67,
      "outputs": []
    },
    {
      "cell_type": "code",
      "source": [
        "class LabelFeatureGenerator:\n",
        "  def __init__(self, property_name, values: np.array):\n",
        "    self.property_name = property_name\n",
        "    self.encoder = LabelEncoder()\n",
        "    self.encoder.fit(values)\n",
        "                     \n",
        "  def generate_features(self, values: np.array):\n",
        "    return self.encoder.transform(values)\n",
        "\n",
        "  def get_label_from_features(self, features: np.array):\n",
        "    return self.encoder.inverse_transform(features)"
      ],
      "metadata": {
        "id": "YZvirTjjoC2b"
      },
      "execution_count": 68,
      "outputs": []
    },
    {
      "cell_type": "markdown",
      "source": [
        "# Preprocessing and Transformations"
      ],
      "metadata": {
        "id": "uC_KMAhrj_rk"
      }
    },
    {
      "cell_type": "code",
      "source": [
        "def get_all_features(input_data: pd.DataFrame):\n",
        "  names_arr = np.array(df[\"Name\"])\n",
        "  # print(names_arr.shape)\n",
        "  name_feature_gen = NameFeatureGenerator(names_arr)\n",
        "  name_features = name_feature_gen.generate_features(names_arr)\n",
        "  # print(\"Name features shape\")\n",
        "  # print(name_features.shape)\n",
        "  # print(\"Name features\")\n",
        "  # print(name_features)\n",
        "  # print(type(name_features))\n",
        "\n",
        "  datatype_feature_gen = EnumFeatureGenerator(\"Datatype\", np.array(df[\"Datatype\"]))\n",
        "  dt_features = datatype_feature_gen.generate_features(np.array(df[\"Datatype\"]))\n",
        "  # print(\"Datatype features shape\")\n",
        "  # print(dt_features.shape)\n",
        "  # print(type(dt_features))\n",
        "  # print(\"Datatype features\")\n",
        "  # print(dt_features)\n",
        "\n",
        "  orig_values = datatype_feature_gen.get_label_from_features(dt_features)\n",
        "  # print(\"orig_values are\")\n",
        "  # print(orig_values)\n",
        "\n",
        "  merged_features = scipy.sparse.hstack((name_features, dt_features)).tocsr()\n",
        "  # print(merged_features.shape)\n",
        "  # print(type(merged_features))\n",
        "  # print(\"Merged features\")\n",
        "  # print(merged_features)\n",
        "\n",
        "  glossary_labelizer = LabelFeatureGenerator(\"Glossary\", np.array(df[\"Glossary\"]))\n",
        "  glossary_labels = glossary_labelizer.generate_features(np.array(df[\"Glossary\"]))\n",
        "  print(\"Glossary labels shape\")\n",
        "  # print(glossary_labels.shape)\n",
        "  # print(type(glossary_labels))\n",
        "  # print(glossary_labels)\n",
        "  return merged_features, glossary_labels"
      ],
      "metadata": {
        "id": "_w_JatFR5VZd"
      },
      "execution_count": 69,
      "outputs": []
    },
    {
      "cell_type": "code",
      "source": [
        "from sklearn.model_selection import train_test_split\n",
        "from sklearn.ensemble import AdaBoostClassifier\n",
        "from sklearn.multiclass import OneVsRestClassifier\n",
        "from sklearn.metrics import confusion_matrix\n",
        "from sklearn.metrics import multilabel_confusion_matrix\n",
        "from sklearn.svm import SVC"
      ],
      "metadata": {
        "id": "qHYbFhrAmgzC"
      },
      "execution_count": 80,
      "outputs": []
    },
    {
      "cell_type": "code",
      "source": [
        "df = read_data(\"sample_data/sample_dataset.csv\")\n",
        "\n",
        "X_features, Y_output = get_all_features(df)\n",
        "\n",
        "print(\"All features shape\")\n",
        "print(X_features.shape)\n",
        "\n",
        "print(\"Output labels are\")\n",
        "print(Y_output.shape)"
      ],
      "metadata": {
        "colab": {
          "base_uri": "https://localhost:8080/"
        },
        "id": "MhSNtcmSmtjr",
        "outputId": "c9845e5a-7d6b-4718-e705-a44d4aaad7a7"
      },
      "execution_count": 71,
      "outputs": [
        {
          "output_type": "stream",
          "name": "stdout",
          "text": [
            "Glossary labels shape\n",
            "All features shape\n",
            "(200, 244)\n",
            "Output labels are\n",
            "(200,)\n"
          ]
        }
      ]
    },
    {
      "cell_type": "markdown",
      "source": [
        "# Defining Models"
      ],
      "metadata": {
        "id": "czZgIr8SkGBT"
      }
    },
    {
      "cell_type": "code",
      "source": [
        "def train_model_ada_boost(X_features, Y_output):\n",
        "  X_train, X_test, y_train, y_test = train_test_split(X_features, Y_output, test_size = 0.3)\n",
        "  # print(\"X_train shape:\", X_train.shape, \" Y_train shape:\", y_train.shape)\n",
        "  # print(\"X_test shape:\", X_test.shape, \" Y_test shape:\", y_test.shape)\n",
        "\n",
        "  adaBoostClf = AdaBoostClassifier(n_estimators=100)\n",
        "  adaBoostClf.fit(X_train, y_train)\n",
        "\n",
        "  predictions = adaBoostClf.predict(X_test)\n",
        "  # print(predictions)\n",
        "  return y_test, predictions"
      ],
      "metadata": {
        "id": "hP9YFHut6MtL"
      },
      "execution_count": 164,
      "outputs": []
    },
    {
      "cell_type": "code",
      "source": [
        "def train_model_one_v_all(X_features, Y_output):\n",
        "  X_train, X_test, y_train, y_test = train_test_split(X_features, Y_output, test_size = 0.2)\n",
        "  # print(\"X_train shape:\", X_train.shape, \" Y_train shape:\", y_train.shape)\n",
        "  # print(\"X_test shape:\", X_test.shape, \" Y_test shape:\", y_test.shape)\n",
        "\n",
        "  adaBoostClf = OneVsRestClassifier(SVC())\n",
        "  adaBoostClf.fit(X_train, y_train)\n",
        "\n",
        "  predictions = adaBoostClf.predict(X_test)\n",
        "  # print(predictions)\n",
        "  return y_test, predictions"
      ],
      "metadata": {
        "id": "XwDHYuqBh8EI"
      },
      "execution_count": 259,
      "outputs": []
    },
    {
      "cell_type": "markdown",
      "source": [
        "# AdaBoost Classifier"
      ],
      "metadata": {
        "id": "NRd0FNC9jWOw"
      }
    },
    {
      "cell_type": "code",
      "source": [
        "original_answer, predicted_answer = train_model_ada_boost(X_features, Y_output)"
      ],
      "metadata": {
        "id": "-9GZip57zQKB"
      },
      "execution_count": 165,
      "outputs": []
    },
    {
      "cell_type": "code",
      "source": [
        "multilabel_confusion_matrix(original_answer, predicted_answer)"
      ],
      "metadata": {
        "colab": {
          "base_uri": "https://localhost:8080/"
        },
        "id": "NyxLTC9voVmf",
        "outputId": "9efc282a-cf0f-49ea-9217-cfbbe235057f"
      },
      "execution_count": 166,
      "outputs": [
        {
          "output_type": "execute_result",
          "data": {
            "text/plain": [
              "array([[[37,  0],\n",
              "        [14,  9]],\n",
              "\n",
              "       [[39,  0],\n",
              "        [ 0, 21]],\n",
              "\n",
              "       [[30, 14],\n",
              "        [ 0, 16]]])"
            ]
          },
          "metadata": {},
          "execution_count": 166
        }
      ]
    },
    {
      "cell_type": "code",
      "source": [
        "original_answer"
      ],
      "metadata": {
        "colab": {
          "base_uri": "https://localhost:8080/"
        },
        "id": "sQWXWBLiozdE",
        "outputId": "c293684f-d9ce-4ca0-aa18-c4793351615a"
      },
      "execution_count": 167,
      "outputs": [
        {
          "output_type": "execute_result",
          "data": {
            "text/plain": [
              "array([1, 2, 0, 0, 0, 1, 0, 0, 2, 0, 1, 0, 1, 2, 2, 2, 0, 1, 0, 1, 0, 0,\n",
              "       0, 1, 2, 1, 2, 2, 1, 2, 0, 2, 1, 0, 2, 2, 1, 0, 1, 1, 0, 0, 0, 2,\n",
              "       1, 0, 1, 1, 0, 0, 2, 2, 0, 1, 1, 0, 1, 1, 2, 1])"
            ]
          },
          "metadata": {},
          "execution_count": 167
        }
      ]
    },
    {
      "cell_type": "code",
      "source": [
        "predicted_answer"
      ],
      "metadata": {
        "id": "BNgjSLQbpjfi",
        "outputId": "6cbce827-6205-413e-a30d-fba879490751",
        "colab": {
          "base_uri": "https://localhost:8080/"
        }
      },
      "execution_count": 168,
      "outputs": [
        {
          "output_type": "execute_result",
          "data": {
            "text/plain": [
              "array([1, 2, 2, 2, 0, 1, 2, 2, 2, 0, 1, 2, 1, 2, 2, 2, 0, 1, 0, 1, 0, 2,\n",
              "       0, 1, 2, 1, 2, 2, 1, 2, 0, 2, 1, 2, 2, 2, 1, 2, 1, 1, 2, 2, 2, 2,\n",
              "       1, 2, 1, 1, 2, 2, 2, 2, 0, 1, 1, 0, 1, 1, 2, 1])"
            ]
          },
          "metadata": {},
          "execution_count": 168
        }
      ]
    },
    {
      "cell_type": "code",
      "source": [
        "precision_score(original_answer, predicted_answer, average=\"macro\")"
      ],
      "metadata": {
        "id": "xKDjErEsplKo",
        "colab": {
          "base_uri": "https://localhost:8080/"
        },
        "outputId": "c815275c-4c2d-468e-dc7d-4156df915db0"
      },
      "execution_count": 169,
      "outputs": [
        {
          "output_type": "execute_result",
          "data": {
            "text/plain": [
              "0.8444444444444444"
            ]
          },
          "metadata": {},
          "execution_count": 169
        }
      ]
    },
    {
      "cell_type": "code",
      "source": [
        "precision_recall_fscore_support(original_answer, predicted_answer, average=\"macro\")"
      ],
      "metadata": {
        "colab": {
          "base_uri": "https://localhost:8080/"
        },
        "id": "RSjWH48Wg6Ar",
        "outputId": "8cba71b9-75d5-48ec-cf09-29c5f6008b40"
      },
      "execution_count": 170,
      "outputs": [
        {
          "output_type": "execute_result",
          "data": {
            "text/plain": [
              "(0.8444444444444444, 0.7971014492753623, 0.7527173913043478, None)"
            ]
          },
          "metadata": {},
          "execution_count": 170
        }
      ]
    },
    {
      "cell_type": "markdown",
      "source": [
        "# OneVsRest Multi Class Classifier with Support Vector Classifier"
      ],
      "metadata": {
        "id": "ifyOw0I2jlMT"
      }
    },
    {
      "cell_type": "code",
      "source": [
        "original_answer, predicted_answer = train_model_one_v_all(X_features, Y_output)"
      ],
      "metadata": {
        "id": "GrPsdayKjjBb"
      },
      "execution_count": 284,
      "outputs": []
    },
    {
      "cell_type": "code",
      "source": [
        "multilabel_confusion_matrix(original_answer, predicted_answer)"
      ],
      "metadata": {
        "colab": {
          "base_uri": "https://localhost:8080/"
        },
        "outputId": "2a7b4414-2938-4d81-8b89-28e1cca69113",
        "id": "fF981y07jjBb"
      },
      "execution_count": 285,
      "outputs": [
        {
          "output_type": "execute_result",
          "data": {
            "text/plain": [
              "array([[[20,  0],\n",
              "        [ 2, 18]],\n",
              "\n",
              "       [[31,  0],\n",
              "        [ 0,  9]],\n",
              "\n",
              "       [[27,  2],\n",
              "        [ 0, 11]]])"
            ]
          },
          "metadata": {},
          "execution_count": 285
        }
      ]
    },
    {
      "cell_type": "code",
      "source": [
        "original_answer"
      ],
      "metadata": {
        "colab": {
          "base_uri": "https://localhost:8080/"
        },
        "outputId": "f38c44f1-19c9-4d7c-deaf-a8947bff428c",
        "id": "P8HPJUO9jjBc"
      },
      "execution_count": 286,
      "outputs": [
        {
          "output_type": "execute_result",
          "data": {
            "text/plain": [
              "array([0, 2, 2, 0, 2, 1, 1, 2, 0, 0, 0, 2, 0, 1, 2, 0, 2, 0, 2, 1, 2, 1,\n",
              "       0, 0, 1, 1, 0, 0, 2, 1, 1, 0, 0, 0, 0, 2, 0, 0, 0, 0])"
            ]
          },
          "metadata": {},
          "execution_count": 286
        }
      ]
    },
    {
      "cell_type": "code",
      "source": [
        "predicted_answer"
      ],
      "metadata": {
        "outputId": "d51683b0-522e-48fe-9ccd-afb5e5befddc",
        "colab": {
          "base_uri": "https://localhost:8080/"
        },
        "id": "Fb-ox0LnjjBc"
      },
      "execution_count": 287,
      "outputs": [
        {
          "output_type": "execute_result",
          "data": {
            "text/plain": [
              "array([0, 2, 2, 0, 2, 1, 1, 2, 0, 0, 0, 2, 0, 1, 2, 0, 2, 0, 2, 1, 2, 1,\n",
              "       0, 0, 1, 1, 2, 0, 2, 1, 1, 0, 0, 0, 0, 2, 0, 2, 0, 0])"
            ]
          },
          "metadata": {},
          "execution_count": 287
        }
      ]
    },
    {
      "cell_type": "code",
      "source": [
        "precision_score(original_answer, predicted_answer, average=\"macro\")"
      ],
      "metadata": {
        "colab": {
          "base_uri": "https://localhost:8080/"
        },
        "outputId": "ff532f2b-11da-4bea-91e5-bb501a067d1e",
        "id": "loyJQG6MjjBc"
      },
      "execution_count": 288,
      "outputs": [
        {
          "output_type": "execute_result",
          "data": {
            "text/plain": [
              "0.9487179487179488"
            ]
          },
          "metadata": {},
          "execution_count": 288
        }
      ]
    },
    {
      "cell_type": "code",
      "source": [
        "precision_recall_fscore_support(original_answer, predicted_answer, average=\"macro\")"
      ],
      "metadata": {
        "colab": {
          "base_uri": "https://localhost:8080/"
        },
        "outputId": "49953c75-22dd-4a38-cbb9-b2b44aa6b4af",
        "id": "5ZneKQ4hjjBe"
      },
      "execution_count": 289,
      "outputs": [
        {
          "output_type": "execute_result",
          "data": {
            "text/plain": [
              "(0.9487179487179488, 0.9666666666666667, 0.9546783625730995, None)"
            ]
          },
          "metadata": {},
          "execution_count": 289
        }
      ]
    },
    {
      "cell_type": "code",
      "source": [
        ""
      ],
      "metadata": {
        "id": "tl92RQoijr3z"
      },
      "execution_count": null,
      "outputs": []
    }
  ]
}